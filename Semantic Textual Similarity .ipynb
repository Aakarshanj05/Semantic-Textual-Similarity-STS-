{
 "cells": [
  {
   "cell_type": "markdown",
   "id": "406ffee7",
   "metadata": {},
   "source": [
    "Installing sentence Transformer for encoding sentences and paragraphs into dense vector representation, commonly referred to as embeddings."
   ]
  },
  {
   "cell_type": "code",
   "execution_count": 1,
   "id": "27f713d8",
   "metadata": {},
   "outputs": [
    {
     "name": "stdout",
     "output_type": "stream",
     "text": [
      "Requirement already satisfied: sentence-transformers in c:\\users\\hp\\anaconda3\\lib\\site-packages (2.2.2)\n",
      "Requirement already satisfied: transformers<5.0.0,>=4.6.0 in c:\\users\\hp\\anaconda3\\lib\\site-packages (from sentence-transformers) (4.31.0)\n",
      "Requirement already satisfied: tqdm in c:\\users\\hp\\anaconda3\\lib\\site-packages (from sentence-transformers) (4.64.1)\n",
      "Requirement already satisfied: torch>=1.6.0 in c:\\users\\hp\\anaconda3\\lib\\site-packages (from sentence-transformers) (2.0.1)\n",
      "Requirement already satisfied: torchvision in c:\\users\\hp\\anaconda3\\lib\\site-packages (from sentence-transformers) (0.15.2)\n",
      "Requirement already satisfied: numpy in c:\\users\\hp\\anaconda3\\lib\\site-packages (from sentence-transformers) (1.24.2)\n",
      "Requirement already satisfied: scikit-learn in c:\\users\\hp\\anaconda3\\lib\\site-packages (from sentence-transformers) (1.0.2)\n",
      "Requirement already satisfied: scipy in c:\\users\\hp\\anaconda3\\lib\\site-packages (from sentence-transformers) (1.9.1)\n",
      "Requirement already satisfied: nltk in c:\\users\\hp\\anaconda3\\lib\\site-packages (from sentence-transformers) (3.7)\n",
      "Requirement already satisfied: sentencepiece in c:\\users\\hp\\anaconda3\\lib\\site-packages (from sentence-transformers) (0.1.99)\n",
      "Requirement already satisfied: huggingface-hub>=0.4.0 in c:\\users\\hp\\anaconda3\\lib\\site-packages (from sentence-transformers) (0.16.4)\n",
      "Requirement already satisfied: filelock in c:\\users\\hp\\anaconda3\\lib\\site-packages (from huggingface-hub>=0.4.0->sentence-transformers) (3.6.0)\n",
      "Requirement already satisfied: fsspec in c:\\users\\hp\\anaconda3\\lib\\site-packages (from huggingface-hub>=0.4.0->sentence-transformers) (2022.7.1)\n",
      "Requirement already satisfied: requests in c:\\users\\hp\\anaconda3\\lib\\site-packages (from huggingface-hub>=0.4.0->sentence-transformers) (2.28.1)\n",
      "Requirement already satisfied: pyyaml>=5.1 in c:\\users\\hp\\anaconda3\\lib\\site-packages (from huggingface-hub>=0.4.0->sentence-transformers) (6.0)\n",
      "Requirement already satisfied: typing-extensions>=3.7.4.3 in c:\\users\\hp\\anaconda3\\lib\\site-packages (from huggingface-hub>=0.4.0->sentence-transformers) (4.3.0)\n",
      "Requirement already satisfied: packaging>=20.9 in c:\\users\\hp\\anaconda3\\lib\\site-packages (from huggingface-hub>=0.4.0->sentence-transformers) (21.3)\n",
      "Requirement already satisfied: sympy in c:\\users\\hp\\anaconda3\\lib\\site-packages (from torch>=1.6.0->sentence-transformers) (1.10.1)\n",
      "Requirement already satisfied: networkx in c:\\users\\hp\\anaconda3\\lib\\site-packages (from torch>=1.6.0->sentence-transformers) (2.8.4)\n",
      "Requirement already satisfied: jinja2 in c:\\users\\hp\\anaconda3\\lib\\site-packages (from torch>=1.6.0->sentence-transformers) (2.11.3)\n",
      "Requirement already satisfied: colorama in c:\\users\\hp\\anaconda3\\lib\\site-packages (from tqdm->sentence-transformers) (0.4.6)\n",
      "Requirement already satisfied: regex!=2019.12.17 in c:\\users\\hp\\anaconda3\\lib\\site-packages (from transformers<5.0.0,>=4.6.0->sentence-transformers) (2022.7.9)\n",
      "Requirement already satisfied: tokenizers!=0.11.3,<0.14,>=0.11.1 in c:\\users\\hp\\anaconda3\\lib\\site-packages (from transformers<5.0.0,>=4.6.0->sentence-transformers) (0.13.3)\n",
      "Requirement already satisfied: safetensors>=0.3.1 in c:\\users\\hp\\anaconda3\\lib\\site-packages (from transformers<5.0.0,>=4.6.0->sentence-transformers) (0.3.1)\n",
      "Requirement already satisfied: click in c:\\users\\hp\\anaconda3\\lib\\site-packages (from nltk->sentence-transformers) (8.0.4)\n",
      "Requirement already satisfied: joblib in c:\\users\\hp\\anaconda3\\lib\\site-packages (from nltk->sentence-transformers) (1.1.0)\n",
      "Requirement already satisfied: threadpoolctl>=2.0.0 in c:\\users\\hp\\anaconda3\\lib\\site-packages (from scikit-learn->sentence-transformers) (2.2.0)\n",
      "Requirement already satisfied: pillow!=8.3.*,>=5.3.0 in c:\\users\\hp\\anaconda3\\lib\\site-packages (from torchvision->sentence-transformers) (9.2.0)\n",
      "Requirement already satisfied: pyparsing!=3.0.5,>=2.0.2 in c:\\users\\hp\\anaconda3\\lib\\site-packages (from packaging>=20.9->huggingface-hub>=0.4.0->sentence-transformers) (3.0.9)\n",
      "Requirement already satisfied: MarkupSafe>=0.23 in c:\\users\\hp\\anaconda3\\lib\\site-packages (from jinja2->torch>=1.6.0->sentence-transformers) (2.0.1)\n",
      "Requirement already satisfied: charset-normalizer<3,>=2 in c:\\users\\hp\\anaconda3\\lib\\site-packages (from requests->huggingface-hub>=0.4.0->sentence-transformers) (2.0.4)\n",
      "Requirement already satisfied: idna<4,>=2.5 in c:\\users\\hp\\anaconda3\\lib\\site-packages (from requests->huggingface-hub>=0.4.0->sentence-transformers) (3.3)\n",
      "Requirement already satisfied: urllib3<1.27,>=1.21.1 in c:\\users\\hp\\anaconda3\\lib\\site-packages (from requests->huggingface-hub>=0.4.0->sentence-transformers) (1.26.11)\n",
      "Requirement already satisfied: certifi>=2017.4.17 in c:\\users\\hp\\anaconda3\\lib\\site-packages (from requests->huggingface-hub>=0.4.0->sentence-transformers) (2022.9.14)\n",
      "Requirement already satisfied: mpmath>=0.19 in c:\\users\\hp\\anaconda3\\lib\\site-packages (from sympy->torch>=1.6.0->sentence-transformers) (1.2.1)\n",
      "Note: you may need to restart the kernel to use updated packages.\n"
     ]
    }
   ],
   "source": [
    "pip install sentence-transformers\n"
   ]
  },
  {
   "cell_type": "markdown",
   "id": "39ff6ef8",
   "metadata": {},
   "source": [
    "Importing the desired Libraries"
   ]
  },
  {
   "cell_type": "code",
   "execution_count": 2,
   "id": "0197b995",
   "metadata": {},
   "outputs": [],
   "source": [
    "import pandas as pd\n",
    "from sentence_transformers import SentenceTransformer, util\n",
    "from sklearn.preprocessing import MinMaxScaler\n",
    "import numpy as np\n",
    "import seaborn as sns\n",
    "import matplotlib.pyplot as plt\n"
   ]
  },
  {
   "cell_type": "markdown",
   "id": "e5ab94ee",
   "metadata": {},
   "source": [
    "Importing the CSV file and storing it in the DataFrame df."
   ]
  },
  {
   "cell_type": "code",
   "execution_count": 3,
   "id": "2f19dca5",
   "metadata": {},
   "outputs": [],
   "source": [
    "csv_file = \"Precily_Text_Similarity.csv\"\n",
    "df = pd.read_csv(csv_file)"
   ]
  },
  {
   "cell_type": "markdown",
   "id": "3176a6d7",
   "metadata": {},
   "source": [
    "Storing the 1st and 2nd Column paragraphs from CSV file in python list and storing it in text1 and text2 "
   ]
  },
  {
   "cell_type": "code",
   "execution_count": 4,
   "id": "da2802e7",
   "metadata": {},
   "outputs": [],
   "source": [
    "text1 = df[\"text1\"].tolist()\n",
    "text2 = df[\"text2\"].tolist()"
   ]
  },
  {
   "cell_type": "markdown",
   "id": "dc083879",
   "metadata": {},
   "source": [
    "Load the Sentence Transformer model"
   ]
  },
  {
   "cell_type": "code",
   "execution_count": 5,
   "id": "80a4077d",
   "metadata": {},
   "outputs": [],
   "source": [
    "model = SentenceTransformer('all-MiniLM-L6-v2')"
   ]
  },
  {
   "cell_type": "markdown",
   "id": "f6f5f846",
   "metadata": {},
   "source": [
    "Compute embeddings for both lists"
   ]
  },
  {
   "cell_type": "code",
   "execution_count": 6,
   "id": "8a15f54b",
   "metadata": {},
   "outputs": [],
   "source": [
    "embeddings1 = model.encode(text1, convert_to_tensor=True)\n",
    "embeddings2 = model.encode(text2, convert_to_tensor=True)"
   ]
  },
  {
   "cell_type": "markdown",
   "id": "3af26837",
   "metadata": {},
   "source": [
    "Compute cosine similarities. \n",
    "Cosine Similarity ranges from -1 to 1. \n",
    "To compare the similarity between two sentence embeddings (vectors), cosine similarity is calculated as the cosine of the angle between the two vectors. It's value completly depends on  the thetha value. as cos(180) = -1 and cos(0) = 1 whereas \n",
    "cos(90) = cos(270) = 0\n",
    "It is computed as the dot product of the two vectors divided by the product of their magnitudes."
   ]
  },
  {
   "cell_type": "code",
   "execution_count": 7,
   "id": "e7cba8f4",
   "metadata": {},
   "outputs": [],
   "source": [
    "cosine_scores = util.cos_sim(embeddings1, embeddings2)"
   ]
  },
  {
   "cell_type": "code",
   "execution_count": 8,
   "id": "100b40a9",
   "metadata": {},
   "outputs": [],
   "source": [
    "scaler = MinMaxScaler()\n",
    "normalized_scores = scaler.fit_transform(cosine_scores)\n"
   ]
  },
  {
   "cell_type": "code",
   "execution_count": 9,
   "id": "0f6b4631",
   "metadata": {},
   "outputs": [],
   "source": [
    "normalized_scores = np.clip(normalized_scores, 0, 1)"
   ]
  },
  {
   "cell_type": "markdown",
   "id": "e77a0fc4",
   "metadata": {},
   "source": [
    "Create a new column in the DataFrame for Similarity Scores and Save the DataFrame with the new column back to the CSV file"
   ]
  },
  {
   "cell_type": "code",
   "execution_count": 10,
   "id": "19fd4013",
   "metadata": {},
   "outputs": [],
   "source": [
    "df[\"SimilarityScore\"] = [cosine_scores[i][i] for i in range(len(text1))]"
   ]
  },
  {
   "cell_type": "code",
   "execution_count": 11,
   "id": "1472dd14",
   "metadata": {},
   "outputs": [],
   "source": [
    "df.to_csv(csv_file, index=False)"
   ]
  },
  {
   "cell_type": "code",
   "execution_count": 12,
   "id": "ec5f589b",
   "metadata": {},
   "outputs": [
    {
     "name": "stdout",
     "output_type": "stream",
     "text": [
      "Index(['text1', 'text2', 'SimilarityScore', 'EmbeddingDistance'], dtype='object')\n"
     ]
    }
   ],
   "source": [
    "print(df.columns)"
   ]
  },
  {
   "cell_type": "markdown",
   "id": "2bea89a8",
   "metadata": {},
   "source": [
    "Checking Top 30 rows of the table"
   ]
  },
  {
   "cell_type": "code",
   "execution_count": 13,
   "id": "ba2a48d5",
   "metadata": {},
   "outputs": [
    {
     "data": {
      "text/html": [
       "<div>\n",
       "<style scoped>\n",
       "    .dataframe tbody tr th:only-of-type {\n",
       "        vertical-align: middle;\n",
       "    }\n",
       "\n",
       "    .dataframe tbody tr th {\n",
       "        vertical-align: top;\n",
       "    }\n",
       "\n",
       "    .dataframe thead th {\n",
       "        text-align: right;\n",
       "    }\n",
       "</style>\n",
       "<table border=\"1\" class=\"dataframe\">\n",
       "  <thead>\n",
       "    <tr style=\"text-align: right;\">\n",
       "      <th></th>\n",
       "      <th>text1</th>\n",
       "      <th>text2</th>\n",
       "      <th>SimilarityScore</th>\n",
       "      <th>EmbeddingDistance</th>\n",
       "    </tr>\n",
       "  </thead>\n",
       "  <tbody>\n",
       "    <tr>\n",
       "      <th>0</th>\n",
       "      <td>broadband challenges tv viewing the number of ...</td>\n",
       "      <td>gardener wins double in glasgow britain s jaso...</td>\n",
       "      <td>tensor(0.0862)</td>\n",
       "      <td>tensor(0.9138)</td>\n",
       "    </tr>\n",
       "    <tr>\n",
       "      <th>1</th>\n",
       "      <td>rap boss arrested over drug find rap mogul mar...</td>\n",
       "      <td>amnesty chief laments war failure the lack of ...</td>\n",
       "      <td>tensor(0.1655)</td>\n",
       "      <td>tensor(0.8345)</td>\n",
       "    </tr>\n",
       "    <tr>\n",
       "      <th>2</th>\n",
       "      <td>player burn-out worries robinson england coach...</td>\n",
       "      <td>hanks greeted at wintry premiere hollywood sta...</td>\n",
       "      <td>tensor(0.0778)</td>\n",
       "      <td>tensor(0.9222)</td>\n",
       "    </tr>\n",
       "    <tr>\n",
       "      <th>3</th>\n",
       "      <td>hearts of oak 3-2 cotonsport hearts of oak set...</td>\n",
       "      <td>redford s vision of sundance despite sporting ...</td>\n",
       "      <td>tensor(-0.1862)</td>\n",
       "      <td>tensor(1.1862)</td>\n",
       "    </tr>\n",
       "    <tr>\n",
       "      <th>4</th>\n",
       "      <td>sir paul rocks super bowl crowds sir paul mcca...</td>\n",
       "      <td>mauresmo opens with victory in la amelie maure...</td>\n",
       "      <td>tensor(0.0887)</td>\n",
       "      <td>tensor(0.9113)</td>\n",
       "    </tr>\n",
       "    <tr>\n",
       "      <th>5</th>\n",
       "      <td>india to deport bollywood actress india has or...</td>\n",
       "      <td>fosters buys stake in winemaker australian bre...</td>\n",
       "      <td>tensor(-0.0333)</td>\n",
       "      <td>tensor(1.0333)</td>\n",
       "    </tr>\n",
       "    <tr>\n",
       "      <th>6</th>\n",
       "      <td>mutant book wins guardian prize a book about t...</td>\n",
       "      <td>jp morgan admits us slavery links thousands of...</td>\n",
       "      <td>tensor(-0.0154)</td>\n",
       "      <td>tensor(1.0154)</td>\n",
       "    </tr>\n",
       "    <tr>\n",
       "      <th>7</th>\n",
       "      <td>aids and climate top davos agenda climate chan...</td>\n",
       "      <td>howl helps boost japan s cinemas japan s box o...</td>\n",
       "      <td>tensor(0.0103)</td>\n",
       "      <td>tensor(0.9897)</td>\n",
       "    </tr>\n",
       "    <tr>\n",
       "      <th>8</th>\n",
       "      <td>kennedy predicts bigger turnout voters   pent ...</td>\n",
       "      <td>ocean s twelve raids box office ocean s twelve...</td>\n",
       "      <td>tensor(0.0117)</td>\n",
       "      <td>tensor(0.9883)</td>\n",
       "    </tr>\n",
       "    <tr>\n",
       "      <th>9</th>\n",
       "      <td>carry on star patsy rowlands dies actress pats...</td>\n",
       "      <td>uk broadband gets speed injection broadband s ...</td>\n",
       "      <td>tensor(-0.0126)</td>\n",
       "      <td>tensor(1.0126)</td>\n",
       "    </tr>\n",
       "  </tbody>\n",
       "</table>\n",
       "</div>"
      ],
      "text/plain": [
       "                                               text1  \\\n",
       "0  broadband challenges tv viewing the number of ...   \n",
       "1  rap boss arrested over drug find rap mogul mar...   \n",
       "2  player burn-out worries robinson england coach...   \n",
       "3  hearts of oak 3-2 cotonsport hearts of oak set...   \n",
       "4  sir paul rocks super bowl crowds sir paul mcca...   \n",
       "5  india to deport bollywood actress india has or...   \n",
       "6  mutant book wins guardian prize a book about t...   \n",
       "7  aids and climate top davos agenda climate chan...   \n",
       "8  kennedy predicts bigger turnout voters   pent ...   \n",
       "9  carry on star patsy rowlands dies actress pats...   \n",
       "\n",
       "                                               text2  SimilarityScore  \\\n",
       "0  gardener wins double in glasgow britain s jaso...   tensor(0.0862)   \n",
       "1  amnesty chief laments war failure the lack of ...   tensor(0.1655)   \n",
       "2  hanks greeted at wintry premiere hollywood sta...   tensor(0.0778)   \n",
       "3  redford s vision of sundance despite sporting ...  tensor(-0.1862)   \n",
       "4  mauresmo opens with victory in la amelie maure...   tensor(0.0887)   \n",
       "5  fosters buys stake in winemaker australian bre...  tensor(-0.0333)   \n",
       "6  jp morgan admits us slavery links thousands of...  tensor(-0.0154)   \n",
       "7  howl helps boost japan s cinemas japan s box o...   tensor(0.0103)   \n",
       "8  ocean s twelve raids box office ocean s twelve...   tensor(0.0117)   \n",
       "9  uk broadband gets speed injection broadband s ...  tensor(-0.0126)   \n",
       "\n",
       "  EmbeddingDistance  \n",
       "0    tensor(0.9138)  \n",
       "1    tensor(0.8345)  \n",
       "2    tensor(0.9222)  \n",
       "3    tensor(1.1862)  \n",
       "4    tensor(0.9113)  \n",
       "5    tensor(1.0333)  \n",
       "6    tensor(1.0154)  \n",
       "7    tensor(0.9897)  \n",
       "8    tensor(0.9883)  \n",
       "9    tensor(1.0126)  "
      ]
     },
     "execution_count": 13,
     "metadata": {},
     "output_type": "execute_result"
    }
   ],
   "source": [
    "df.head(10)"
   ]
  },
  {
   "cell_type": "markdown",
   "id": "34de45a2",
   "metadata": {},
   "source": [
    "Count the numbers where similarity score = 1"
   ]
  },
  {
   "cell_type": "code",
   "execution_count": 14,
   "id": "1f85e797",
   "metadata": {},
   "outputs": [
    {
     "name": "stdout",
     "output_type": "stream",
     "text": [
      "Total rows with similarity score 1: 1\n"
     ]
    }
   ],
   "source": [
    "total_similarity_score_1 = (df[\"SimilarityScore\"] == 1).sum()\n",
    "\n",
    "print(\"Total rows with similarity score 1:\", total_similarity_score_1)"
   ]
  },
  {
   "cell_type": "markdown",
   "id": "03e4627a",
   "metadata": {},
   "source": [
    "Calulate the Embedding Distance."
   ]
  },
  {
   "cell_type": "code",
   "execution_count": 15,
   "id": "06d44d24",
   "metadata": {},
   "outputs": [],
   "source": [
    "embedding_distance = 1 - cosine_scores"
   ]
  },
  {
   "cell_type": "markdown",
   "id": "9cdd1ee5",
   "metadata": {},
   "source": [
    "Create a new column in the DataFrame for Embedding Distances and saving it into csv file"
   ]
  },
  {
   "cell_type": "code",
   "execution_count": 16,
   "id": "b8ab6436",
   "metadata": {},
   "outputs": [],
   "source": [
    "df[\"EmbeddingDistance\"] = [embedding_distance[i][i] for i in range(len(text1))]"
   ]
  },
  {
   "cell_type": "code",
   "execution_count": 17,
   "id": "08fc2b5b",
   "metadata": {},
   "outputs": [],
   "source": [
    "df.to_csv(csv_file, index=False)"
   ]
  },
  {
   "cell_type": "code",
   "execution_count": 18,
   "id": "ffd7cde2",
   "metadata": {},
   "outputs": [
    {
     "data": {
      "text/html": [
       "<div>\n",
       "<style scoped>\n",
       "    .dataframe tbody tr th:only-of-type {\n",
       "        vertical-align: middle;\n",
       "    }\n",
       "\n",
       "    .dataframe tbody tr th {\n",
       "        vertical-align: top;\n",
       "    }\n",
       "\n",
       "    .dataframe thead th {\n",
       "        text-align: right;\n",
       "    }\n",
       "</style>\n",
       "<table border=\"1\" class=\"dataframe\">\n",
       "  <thead>\n",
       "    <tr style=\"text-align: right;\">\n",
       "      <th></th>\n",
       "      <th>text1</th>\n",
       "      <th>text2</th>\n",
       "      <th>SimilarityScore</th>\n",
       "      <th>EmbeddingDistance</th>\n",
       "    </tr>\n",
       "  </thead>\n",
       "  <tbody>\n",
       "    <tr>\n",
       "      <th>count</th>\n",
       "      <td>3000</td>\n",
       "      <td>3000</td>\n",
       "      <td>3000</td>\n",
       "      <td>3000</td>\n",
       "    </tr>\n",
       "    <tr>\n",
       "      <th>unique</th>\n",
       "      <td>1277</td>\n",
       "      <td>1256</td>\n",
       "      <td>3000</td>\n",
       "      <td>3000</td>\n",
       "    </tr>\n",
       "    <tr>\n",
       "      <th>top</th>\n",
       "      <td>stars pay tribute to actor davis hollywood sta...</td>\n",
       "      <td>edwards tips idowu for euro gold world outdoor...</td>\n",
       "      <td>tensor(0.0862)</td>\n",
       "      <td>tensor(0.9138)</td>\n",
       "    </tr>\n",
       "    <tr>\n",
       "      <th>freq</th>\n",
       "      <td>9</td>\n",
       "      <td>12</td>\n",
       "      <td>1</td>\n",
       "      <td>1</td>\n",
       "    </tr>\n",
       "  </tbody>\n",
       "</table>\n",
       "</div>"
      ],
      "text/plain": [
       "                                                    text1  \\\n",
       "count                                                3000   \n",
       "unique                                               1277   \n",
       "top     stars pay tribute to actor davis hollywood sta...   \n",
       "freq                                                    9   \n",
       "\n",
       "                                                    text2 SimilarityScore  \\\n",
       "count                                                3000            3000   \n",
       "unique                                               1256            3000   \n",
       "top     edwards tips idowu for euro gold world outdoor...  tensor(0.0862)   \n",
       "freq                                                   12               1   \n",
       "\n",
       "       EmbeddingDistance  \n",
       "count               3000  \n",
       "unique              3000  \n",
       "top       tensor(0.9138)  \n",
       "freq                   1  "
      ]
     },
     "execution_count": 18,
     "metadata": {},
     "output_type": "execute_result"
    }
   ],
   "source": [
    "df.describe()"
   ]
  },
  {
   "cell_type": "code",
   "execution_count": 19,
   "id": "b348ac28",
   "metadata": {},
   "outputs": [
    {
     "data": {
      "text/html": [
       "<div>\n",
       "<style scoped>\n",
       "    .dataframe tbody tr th:only-of-type {\n",
       "        vertical-align: middle;\n",
       "    }\n",
       "\n",
       "    .dataframe tbody tr th {\n",
       "        vertical-align: top;\n",
       "    }\n",
       "\n",
       "    .dataframe thead th {\n",
       "        text-align: right;\n",
       "    }\n",
       "</style>\n",
       "<table border=\"1\" class=\"dataframe\">\n",
       "  <thead>\n",
       "    <tr style=\"text-align: right;\">\n",
       "      <th></th>\n",
       "      <th>text1</th>\n",
       "      <th>text2</th>\n",
       "      <th>SimilarityScore</th>\n",
       "      <th>EmbeddingDistance</th>\n",
       "    </tr>\n",
       "  </thead>\n",
       "  <tbody>\n",
       "    <tr>\n",
       "      <th>0</th>\n",
       "      <td>broadband challenges tv viewing the number of ...</td>\n",
       "      <td>gardener wins double in glasgow britain s jaso...</td>\n",
       "      <td>tensor(0.0862)</td>\n",
       "      <td>tensor(0.9138)</td>\n",
       "    </tr>\n",
       "    <tr>\n",
       "      <th>1</th>\n",
       "      <td>rap boss arrested over drug find rap mogul mar...</td>\n",
       "      <td>amnesty chief laments war failure the lack of ...</td>\n",
       "      <td>tensor(0.1655)</td>\n",
       "      <td>tensor(0.8345)</td>\n",
       "    </tr>\n",
       "    <tr>\n",
       "      <th>2</th>\n",
       "      <td>player burn-out worries robinson england coach...</td>\n",
       "      <td>hanks greeted at wintry premiere hollywood sta...</td>\n",
       "      <td>tensor(0.0778)</td>\n",
       "      <td>tensor(0.9222)</td>\n",
       "    </tr>\n",
       "    <tr>\n",
       "      <th>3</th>\n",
       "      <td>hearts of oak 3-2 cotonsport hearts of oak set...</td>\n",
       "      <td>redford s vision of sundance despite sporting ...</td>\n",
       "      <td>tensor(-0.1862)</td>\n",
       "      <td>tensor(1.1862)</td>\n",
       "    </tr>\n",
       "    <tr>\n",
       "      <th>4</th>\n",
       "      <td>sir paul rocks super bowl crowds sir paul mcca...</td>\n",
       "      <td>mauresmo opens with victory in la amelie maure...</td>\n",
       "      <td>tensor(0.0887)</td>\n",
       "      <td>tensor(0.9113)</td>\n",
       "    </tr>\n",
       "    <tr>\n",
       "      <th>5</th>\n",
       "      <td>india to deport bollywood actress india has or...</td>\n",
       "      <td>fosters buys stake in winemaker australian bre...</td>\n",
       "      <td>tensor(-0.0333)</td>\n",
       "      <td>tensor(1.0333)</td>\n",
       "    </tr>\n",
       "    <tr>\n",
       "      <th>6</th>\n",
       "      <td>mutant book wins guardian prize a book about t...</td>\n",
       "      <td>jp morgan admits us slavery links thousands of...</td>\n",
       "      <td>tensor(-0.0154)</td>\n",
       "      <td>tensor(1.0154)</td>\n",
       "    </tr>\n",
       "    <tr>\n",
       "      <th>7</th>\n",
       "      <td>aids and climate top davos agenda climate chan...</td>\n",
       "      <td>howl helps boost japan s cinemas japan s box o...</td>\n",
       "      <td>tensor(0.0103)</td>\n",
       "      <td>tensor(0.9897)</td>\n",
       "    </tr>\n",
       "    <tr>\n",
       "      <th>8</th>\n",
       "      <td>kennedy predicts bigger turnout voters   pent ...</td>\n",
       "      <td>ocean s twelve raids box office ocean s twelve...</td>\n",
       "      <td>tensor(0.0117)</td>\n",
       "      <td>tensor(0.9883)</td>\n",
       "    </tr>\n",
       "    <tr>\n",
       "      <th>9</th>\n",
       "      <td>carry on star patsy rowlands dies actress pats...</td>\n",
       "      <td>uk broadband gets speed injection broadband s ...</td>\n",
       "      <td>tensor(-0.0126)</td>\n",
       "      <td>tensor(1.0126)</td>\n",
       "    </tr>\n",
       "    <tr>\n",
       "      <th>10</th>\n",
       "      <td>lions blow to world cup winners british and ir...</td>\n",
       "      <td>protect whistleblowers  tuc says the governmen...</td>\n",
       "      <td>tensor(0.1106)</td>\n",
       "      <td>tensor(0.8894)</td>\n",
       "    </tr>\n",
       "    <tr>\n",
       "      <th>11</th>\n",
       "      <td>speech takes on search engines a scottish firm...</td>\n",
       "      <td>lennon brands rangers favourites celtic s neil...</td>\n",
       "      <td>tensor(0.0870)</td>\n",
       "      <td>tensor(0.9130)</td>\n",
       "    </tr>\n",
       "    <tr>\n",
       "      <th>12</th>\n",
       "      <td>bbc to pour £9m into new comedy the bbc is to ...</td>\n",
       "      <td>unilever shake up as profit slips anglo-dutch ...</td>\n",
       "      <td>tensor(0.2819)</td>\n",
       "      <td>tensor(0.7181)</td>\n",
       "    </tr>\n",
       "    <tr>\n",
       "      <th>13</th>\n",
       "      <td>gerrard plays down european hopes steven gerra...</td>\n",
       "      <td>games firms  face tough future  uk video game ...</td>\n",
       "      <td>tensor(0.2685)</td>\n",
       "      <td>tensor(0.7315)</td>\n",
       "    </tr>\n",
       "    <tr>\n",
       "      <th>14</th>\n",
       "      <td>pearce keen on succeeding keegan joint assista...</td>\n",
       "      <td>cactus diet deal for phytopharm a slimming aid...</td>\n",
       "      <td>tensor(-0.0411)</td>\n",
       "      <td>tensor(1.0411)</td>\n",
       "    </tr>\n",
       "    <tr>\n",
       "      <th>15</th>\n",
       "      <td>conservative backing for id cards the tories a...</td>\n",
       "      <td>buffy creator joins wonder woman the creator o...</td>\n",
       "      <td>tensor(-0.0672)</td>\n",
       "      <td>tensor(1.0672)</td>\n",
       "    </tr>\n",
       "    <tr>\n",
       "      <th>16</th>\n",
       "      <td>playstation 3 processor unveiled the cell proc...</td>\n",
       "      <td>search wars hit desktop pcs another front in t...</td>\n",
       "      <td>tensor(0.2009)</td>\n",
       "      <td>tensor(0.7991)</td>\n",
       "    </tr>\n",
       "    <tr>\n",
       "      <th>17</th>\n",
       "      <td>podcasters  look to net money nasa is doing it...</td>\n",
       "      <td>apple mac mini gets warm welcome the mac mini ...</td>\n",
       "      <td>tensor(0.2880)</td>\n",
       "      <td>tensor(0.7120)</td>\n",
       "    </tr>\n",
       "    <tr>\n",
       "      <th>18</th>\n",
       "      <td>dozens held over id fraud site twenty-eight pe...</td>\n",
       "      <td>europe backs digital tv lifestyle how people r...</td>\n",
       "      <td>tensor(0.1582)</td>\n",
       "      <td>tensor(0.8418)</td>\n",
       "    </tr>\n",
       "    <tr>\n",
       "      <th>19</th>\n",
       "      <td>kennedy predicts bigger turnout voters   pent ...</td>\n",
       "      <td>van gogh festival film withdrawn murdered dire...</td>\n",
       "      <td>tensor(0.1338)</td>\n",
       "      <td>tensor(0.8662)</td>\n",
       "    </tr>\n",
       "  </tbody>\n",
       "</table>\n",
       "</div>"
      ],
      "text/plain": [
       "                                                text1  \\\n",
       "0   broadband challenges tv viewing the number of ...   \n",
       "1   rap boss arrested over drug find rap mogul mar...   \n",
       "2   player burn-out worries robinson england coach...   \n",
       "3   hearts of oak 3-2 cotonsport hearts of oak set...   \n",
       "4   sir paul rocks super bowl crowds sir paul mcca...   \n",
       "5   india to deport bollywood actress india has or...   \n",
       "6   mutant book wins guardian prize a book about t...   \n",
       "7   aids and climate top davos agenda climate chan...   \n",
       "8   kennedy predicts bigger turnout voters   pent ...   \n",
       "9   carry on star patsy rowlands dies actress pats...   \n",
       "10  lions blow to world cup winners british and ir...   \n",
       "11  speech takes on search engines a scottish firm...   \n",
       "12  bbc to pour £9m into new comedy the bbc is to ...   \n",
       "13  gerrard plays down european hopes steven gerra...   \n",
       "14  pearce keen on succeeding keegan joint assista...   \n",
       "15  conservative backing for id cards the tories a...   \n",
       "16  playstation 3 processor unveiled the cell proc...   \n",
       "17  podcasters  look to net money nasa is doing it...   \n",
       "18  dozens held over id fraud site twenty-eight pe...   \n",
       "19  kennedy predicts bigger turnout voters   pent ...   \n",
       "\n",
       "                                                text2  SimilarityScore  \\\n",
       "0   gardener wins double in glasgow britain s jaso...   tensor(0.0862)   \n",
       "1   amnesty chief laments war failure the lack of ...   tensor(0.1655)   \n",
       "2   hanks greeted at wintry premiere hollywood sta...   tensor(0.0778)   \n",
       "3   redford s vision of sundance despite sporting ...  tensor(-0.1862)   \n",
       "4   mauresmo opens with victory in la amelie maure...   tensor(0.0887)   \n",
       "5   fosters buys stake in winemaker australian bre...  tensor(-0.0333)   \n",
       "6   jp morgan admits us slavery links thousands of...  tensor(-0.0154)   \n",
       "7   howl helps boost japan s cinemas japan s box o...   tensor(0.0103)   \n",
       "8   ocean s twelve raids box office ocean s twelve...   tensor(0.0117)   \n",
       "9   uk broadband gets speed injection broadband s ...  tensor(-0.0126)   \n",
       "10  protect whistleblowers  tuc says the governmen...   tensor(0.1106)   \n",
       "11  lennon brands rangers favourites celtic s neil...   tensor(0.0870)   \n",
       "12  unilever shake up as profit slips anglo-dutch ...   tensor(0.2819)   \n",
       "13  games firms  face tough future  uk video game ...   tensor(0.2685)   \n",
       "14  cactus diet deal for phytopharm a slimming aid...  tensor(-0.0411)   \n",
       "15  buffy creator joins wonder woman the creator o...  tensor(-0.0672)   \n",
       "16  search wars hit desktop pcs another front in t...   tensor(0.2009)   \n",
       "17  apple mac mini gets warm welcome the mac mini ...   tensor(0.2880)   \n",
       "18  europe backs digital tv lifestyle how people r...   tensor(0.1582)   \n",
       "19  van gogh festival film withdrawn murdered dire...   tensor(0.1338)   \n",
       "\n",
       "   EmbeddingDistance  \n",
       "0     tensor(0.9138)  \n",
       "1     tensor(0.8345)  \n",
       "2     tensor(0.9222)  \n",
       "3     tensor(1.1862)  \n",
       "4     tensor(0.9113)  \n",
       "5     tensor(1.0333)  \n",
       "6     tensor(1.0154)  \n",
       "7     tensor(0.9897)  \n",
       "8     tensor(0.9883)  \n",
       "9     tensor(1.0126)  \n",
       "10    tensor(0.8894)  \n",
       "11    tensor(0.9130)  \n",
       "12    tensor(0.7181)  \n",
       "13    tensor(0.7315)  \n",
       "14    tensor(1.0411)  \n",
       "15    tensor(1.0672)  \n",
       "16    tensor(0.7991)  \n",
       "17    tensor(0.7120)  \n",
       "18    tensor(0.8418)  \n",
       "19    tensor(0.8662)  "
      ]
     },
     "execution_count": 19,
     "metadata": {},
     "output_type": "execute_result"
    }
   ],
   "source": [
    "df.head(20)"
   ]
  },
  {
   "cell_type": "code",
   "execution_count": 20,
   "id": "a2a84c57",
   "metadata": {},
   "outputs": [],
   "source": [
    "df[\"EmbeddingDistance\"] = np.clip(df[\"EmbeddingDistance\"], 0, 1)\n",
    "min_embedding_distance = df[\"EmbeddingDistance\"].min()\n",
    "max_embedding_distance = df[\"EmbeddingDistance\"].max()"
   ]
  },
  {
   "cell_type": "markdown",
   "id": "eb400853",
   "metadata": {},
   "source": [
    "Printing Max and Min embedding distance"
   ]
  },
  {
   "cell_type": "code",
   "execution_count": 21,
   "id": "4f6257c9",
   "metadata": {},
   "outputs": [
    {
     "name": "stdout",
     "output_type": "stream",
     "text": [
      "Minimum Embedding Distance: 0\n",
      "Maximum Embedding Distance: 1\n"
     ]
    }
   ],
   "source": [
    "print(\"Minimum Embedding Distance:\", min_embedding_distance)\n",
    "print(\"Maximum Embedding Distance:\", max_embedding_distance)"
   ]
  },
  {
   "cell_type": "markdown",
   "id": "00836227",
   "metadata": {},
   "source": [
    "Finding any duplicate paragraph in the dataset"
   ]
  },
  {
   "cell_type": "code",
   "execution_count": 22,
   "id": "00dbd505",
   "metadata": {},
   "outputs": [],
   "source": [
    "duplicate_count = df.duplicated().sum()"
   ]
  },
  {
   "cell_type": "code",
   "execution_count": 23,
   "id": "8622544b",
   "metadata": {},
   "outputs": [
    {
     "name": "stdout",
     "output_type": "stream",
     "text": [
      "Number of duplicate rows in the dataset: 0\n"
     ]
    }
   ],
   "source": [
    "print(\"Number of duplicate rows in the dataset:\", duplicate_count)"
   ]
  },
  {
   "cell_type": "code",
   "execution_count": 24,
   "id": "5e80888b",
   "metadata": {},
   "outputs": [
    {
     "data": {
      "text/html": [
       "<div>\n",
       "<style scoped>\n",
       "    .dataframe tbody tr th:only-of-type {\n",
       "        vertical-align: middle;\n",
       "    }\n",
       "\n",
       "    .dataframe tbody tr th {\n",
       "        vertical-align: top;\n",
       "    }\n",
       "\n",
       "    .dataframe thead th {\n",
       "        text-align: right;\n",
       "    }\n",
       "</style>\n",
       "<table border=\"1\" class=\"dataframe\">\n",
       "  <thead>\n",
       "    <tr style=\"text-align: right;\">\n",
       "      <th></th>\n",
       "      <th>text1</th>\n",
       "      <th>text2</th>\n",
       "      <th>SimilarityScore</th>\n",
       "      <th>EmbeddingDistance</th>\n",
       "    </tr>\n",
       "  </thead>\n",
       "  <tbody>\n",
       "    <tr>\n",
       "      <th>count</th>\n",
       "      <td>3000</td>\n",
       "      <td>3000</td>\n",
       "      <td>3000</td>\n",
       "      <td>3000</td>\n",
       "    </tr>\n",
       "    <tr>\n",
       "      <th>unique</th>\n",
       "      <td>1277</td>\n",
       "      <td>1256</td>\n",
       "      <td>3000</td>\n",
       "      <td>2580</td>\n",
       "    </tr>\n",
       "    <tr>\n",
       "      <th>top</th>\n",
       "      <td>stars pay tribute to actor davis hollywood sta...</td>\n",
       "      <td>edwards tips idowu for euro gold world outdoor...</td>\n",
       "      <td>tensor(0.0862)</td>\n",
       "      <td>1</td>\n",
       "    </tr>\n",
       "    <tr>\n",
       "      <th>freq</th>\n",
       "      <td>9</td>\n",
       "      <td>12</td>\n",
       "      <td>1</td>\n",
       "      <td>421</td>\n",
       "    </tr>\n",
       "  </tbody>\n",
       "</table>\n",
       "</div>"
      ],
      "text/plain": [
       "                                                    text1  \\\n",
       "count                                                3000   \n",
       "unique                                               1277   \n",
       "top     stars pay tribute to actor davis hollywood sta...   \n",
       "freq                                                    9   \n",
       "\n",
       "                                                    text2 SimilarityScore  \\\n",
       "count                                                3000            3000   \n",
       "unique                                               1256            3000   \n",
       "top     edwards tips idowu for euro gold world outdoor...  tensor(0.0862)   \n",
       "freq                                                   12               1   \n",
       "\n",
       "        EmbeddingDistance  \n",
       "count                3000  \n",
       "unique               2580  \n",
       "top                     1  \n",
       "freq                  421  "
      ]
     },
     "execution_count": 24,
     "metadata": {},
     "output_type": "execute_result"
    }
   ],
   "source": [
    "df.describe()"
   ]
  },
  {
   "cell_type": "markdown",
   "id": "08c4ffed",
   "metadata": {},
   "source": [
    "Last 10 lows of the dataset"
   ]
  },
  {
   "cell_type": "code",
   "execution_count": 25,
   "id": "74718e83",
   "metadata": {},
   "outputs": [
    {
     "data": {
      "text/html": [
       "<div>\n",
       "<style scoped>\n",
       "    .dataframe tbody tr th:only-of-type {\n",
       "        vertical-align: middle;\n",
       "    }\n",
       "\n",
       "    .dataframe tbody tr th {\n",
       "        vertical-align: top;\n",
       "    }\n",
       "\n",
       "    .dataframe thead th {\n",
       "        text-align: right;\n",
       "    }\n",
       "</style>\n",
       "<table border=\"1\" class=\"dataframe\">\n",
       "  <thead>\n",
       "    <tr style=\"text-align: right;\">\n",
       "      <th></th>\n",
       "      <th>text1</th>\n",
       "      <th>text2</th>\n",
       "      <th>SimilarityScore</th>\n",
       "      <th>EmbeddingDistance</th>\n",
       "    </tr>\n",
       "  </thead>\n",
       "  <tbody>\n",
       "    <tr>\n",
       "      <th>2990</th>\n",
       "      <td>millions to miss out on the net by 2025  40% o...</td>\n",
       "      <td>rocker doherty in on-stage fight rock singer p...</td>\n",
       "      <td>tensor(0.0366)</td>\n",
       "      <td>tensor(0.9634)</td>\n",
       "    </tr>\n",
       "    <tr>\n",
       "      <th>2991</th>\n",
       "      <td>candela completes bolton switch bolton boss sa...</td>\n",
       "      <td>hague s six-figure earnings shown the rewards ...</td>\n",
       "      <td>tensor(0.2797)</td>\n",
       "      <td>tensor(0.7203)</td>\n",
       "    </tr>\n",
       "    <tr>\n",
       "      <th>2992</th>\n",
       "      <td>moya fights back for indian title carlos moya ...</td>\n",
       "      <td>cairn shares slump on oil setback shares in ca...</td>\n",
       "      <td>tensor(0.1958)</td>\n",
       "      <td>tensor(0.8042)</td>\n",
       "    </tr>\n",
       "    <tr>\n",
       "      <th>2993</th>\n",
       "      <td>voters  don t trust politicians  eight out of ...</td>\n",
       "      <td>aviator wins top globes accolades the aviator ...</td>\n",
       "      <td>tensor(0.0878)</td>\n",
       "      <td>tensor(0.9122)</td>\n",
       "    </tr>\n",
       "    <tr>\n",
       "      <th>2994</th>\n",
       "      <td>uk youth  interested  in politics the majority...</td>\n",
       "      <td>fear will help france - laporte france coach b...</td>\n",
       "      <td>tensor(0.1710)</td>\n",
       "      <td>tensor(0.8290)</td>\n",
       "    </tr>\n",
       "    <tr>\n",
       "      <th>2995</th>\n",
       "      <td>uk directors guild nominees named martin scors...</td>\n",
       "      <td>steel firm  to cut  45 000 jobs mittal steel  ...</td>\n",
       "      <td>tensor(0.0803)</td>\n",
       "      <td>tensor(0.9197)</td>\n",
       "    </tr>\n",
       "    <tr>\n",
       "      <th>2996</th>\n",
       "      <td>u2 to play at grammy awards show irish rock ba...</td>\n",
       "      <td>israel looks to us for bank chief israel has a...</td>\n",
       "      <td>tensor(0.0979)</td>\n",
       "      <td>tensor(0.9021)</td>\n",
       "    </tr>\n",
       "    <tr>\n",
       "      <th>2997</th>\n",
       "      <td>pountney handed ban and fine northampton coach...</td>\n",
       "      <td>india and iran in gas export deal india has si...</td>\n",
       "      <td>tensor(-0.1150)</td>\n",
       "      <td>1</td>\n",
       "    </tr>\n",
       "    <tr>\n",
       "      <th>2998</th>\n",
       "      <td>belle named  best scottish band  belle &amp; sebas...</td>\n",
       "      <td>mido makes third apology ahmed  mido  hossam h...</td>\n",
       "      <td>tensor(-0.0045)</td>\n",
       "      <td>1</td>\n",
       "    </tr>\n",
       "    <tr>\n",
       "      <th>2999</th>\n",
       "      <td>criminal probe on citigroup deals traders at u...</td>\n",
       "      <td>former ni minister scott dies former northern ...</td>\n",
       "      <td>tensor(-0.0183)</td>\n",
       "      <td>1</td>\n",
       "    </tr>\n",
       "  </tbody>\n",
       "</table>\n",
       "</div>"
      ],
      "text/plain": [
       "                                                  text1  \\\n",
       "2990  millions to miss out on the net by 2025  40% o...   \n",
       "2991  candela completes bolton switch bolton boss sa...   \n",
       "2992  moya fights back for indian title carlos moya ...   \n",
       "2993  voters  don t trust politicians  eight out of ...   \n",
       "2994  uk youth  interested  in politics the majority...   \n",
       "2995  uk directors guild nominees named martin scors...   \n",
       "2996  u2 to play at grammy awards show irish rock ba...   \n",
       "2997  pountney handed ban and fine northampton coach...   \n",
       "2998  belle named  best scottish band  belle & sebas...   \n",
       "2999  criminal probe on citigroup deals traders at u...   \n",
       "\n",
       "                                                  text2  SimilarityScore  \\\n",
       "2990  rocker doherty in on-stage fight rock singer p...   tensor(0.0366)   \n",
       "2991  hague s six-figure earnings shown the rewards ...   tensor(0.2797)   \n",
       "2992  cairn shares slump on oil setback shares in ca...   tensor(0.1958)   \n",
       "2993  aviator wins top globes accolades the aviator ...   tensor(0.0878)   \n",
       "2994  fear will help france - laporte france coach b...   tensor(0.1710)   \n",
       "2995  steel firm  to cut  45 000 jobs mittal steel  ...   tensor(0.0803)   \n",
       "2996  israel looks to us for bank chief israel has a...   tensor(0.0979)   \n",
       "2997  india and iran in gas export deal india has si...  tensor(-0.1150)   \n",
       "2998  mido makes third apology ahmed  mido  hossam h...  tensor(-0.0045)   \n",
       "2999  former ni minister scott dies former northern ...  tensor(-0.0183)   \n",
       "\n",
       "     EmbeddingDistance  \n",
       "2990    tensor(0.9634)  \n",
       "2991    tensor(0.7203)  \n",
       "2992    tensor(0.8042)  \n",
       "2993    tensor(0.9122)  \n",
       "2994    tensor(0.8290)  \n",
       "2995    tensor(0.9197)  \n",
       "2996    tensor(0.9021)  \n",
       "2997                 1  \n",
       "2998                 1  \n",
       "2999                 1  "
      ]
     },
     "execution_count": 25,
     "metadata": {},
     "output_type": "execute_result"
    }
   ],
   "source": [
    "df.tail(10)"
   ]
  },
  {
   "cell_type": "markdown",
   "id": "01953159",
   "metadata": {},
   "source": [
    "Visualization "
   ]
  },
  {
   "cell_type": "code",
   "execution_count": 26,
   "id": "2e37e02d",
   "metadata": {},
   "outputs": [],
   "source": [
    "threshold = 0.4\n",
    "\n",
    "# Create two new columns to classify pairs as similar or dissimilar\n",
    "df['SimilarPairs'] = df['SimilarityScore'] >= threshold\n",
    "df['DissimilarPairs'] = df['SimilarityScore'] < threshold"
   ]
  },
  {
   "cell_type": "code",
   "execution_count": 27,
   "id": "6db00de0",
   "metadata": {},
   "outputs": [],
   "source": [
    "similar_count = df['SimilarPairs'].sum()\n",
    "dissimilar_count = df['DissimilarPairs'].sum()"
   ]
  },
  {
   "cell_type": "code",
   "execution_count": 28,
   "id": "96532316",
   "metadata": {},
   "outputs": [
    {
     "data": {
      "image/png": "[encoded data removed]",
      "text/plain": [
       "<Figure size 600x600 with 1 Axes>"
      ]
     },
     "metadata": {},
     "output_type": "display_data"
    }
   ],
   "source": [
    "plt.figure(figsize=(6, 6))\n",
    "sns.barplot(x=['Similar Pairs', 'Dissimilar Pairs'], y=[similar_count, dissimilar_count], palette='coolwarm')\n",
    "plt.title('Distribution of Similar and Dissimilar Pairs')\n",
    "plt.xlabel('Pair Type')\n",
    "plt.ylabel('Count')\n",
    "plt.show()"
   ]
  },
  {
   "cell_type": "code",
   "execution_count": 29,
   "id": "04182955",
   "metadata": {},
   "outputs": [],
   "source": [
    "similar_count = df['SimilarPairs'].sum()\n",
    "dissimilar_count = df['DissimilarPairs'].sum()"
   ]
  },
  {
   "cell_type": "code",
   "execution_count": 30,
   "id": "98a10a9e",
   "metadata": {},
   "outputs": [
    {
     "name": "stdout",
     "output_type": "stream",
     "text": [
      "Similar Count: 77\n"
     ]
    }
   ],
   "source": [
    "print(\"Similar Count:\", similar_count)"
   ]
  },
  {
   "cell_type": "code",
   "execution_count": 31,
   "id": "31ef35a1",
   "metadata": {},
   "outputs": [
    {
     "name": "stdout",
     "output_type": "stream",
     "text": [
      "dissimilar count: 2923\n"
     ]
    }
   ],
   "source": [
    "print(\"dissimilar count:\", dissimilar_count)"
   ]
  },
  {
   "cell_type": "markdown",
   "id": "47426058",
   "metadata": {},
   "source": [
    "Other manual examples for finding the similarity scores"
   ]
  },
  {
   "cell_type": "code",
   "execution_count": 32,
   "id": "ba7cb640",
   "metadata": {},
   "outputs": [],
   "source": [
    "text3 = \"He is a boy\"\n",
    "text4 = \"A dog is playing in the garden\""
   ]
  },
  {
   "cell_type": "code",
   "execution_count": 33,
   "id": "350a202b",
   "metadata": {},
   "outputs": [],
   "source": [
    "embedding1 = model.encode(text3, convert_to_tensor=True)\n",
    "embedding2 = model.encode(text4, convert_to_tensor=True)"
   ]
  },
  {
   "cell_type": "code",
   "execution_count": 34,
   "id": "9b92d530",
   "metadata": {},
   "outputs": [],
   "source": [
    "cosine_score = util.pytorch_cos_sim(embedding1, embedding2)"
   ]
  },
  {
   "cell_type": "code",
   "execution_count": 35,
   "id": "a9814b63",
   "metadata": {},
   "outputs": [
    {
     "name": "stdout",
     "output_type": "stream",
     "text": [
      "Similarity Score: -0.07096695899963379\n"
     ]
    }
   ],
   "source": [
    "print(\"Similarity Score:\", cosine_score.item())"
   ]
  },
  {
   "cell_type": "code",
   "execution_count": 36,
   "id": "8a83e24f",
   "metadata": {},
   "outputs": [],
   "source": [
    "text5 = \"Hello Python my name is Aakarshan\"\n",
    "text6 = \"Hello Python my name is Jha\"\n",
    "\n",
    "text7 = \"Good Morning! How are you?\"\n",
    "text8= \"Good Morning How are you\"\n",
    "\n",
    "text9 = \"I love Machine Learning\"\n",
    "text10 = \"I love Machine Learning\""
   ]
  },
  {
   "cell_type": "code",
   "execution_count": 37,
   "id": "eae2e546",
   "metadata": {},
   "outputs": [],
   "source": [
    "embedding5 = model.encode(text5, convert_to_tensor=True)\n",
    "embedding6 = model.encode(text6, convert_to_tensor=True)\n",
    "\n",
    "embedding7 = model.encode(text7, convert_to_tensor=True)\n",
    "embedding8 = model.encode(text8, convert_to_tensor=True)\n",
    "\n",
    "embedding9 = model.encode(text9, convert_to_tensor=True)\n",
    "embedding10 = model.encode(text10, convert_to_tensor=True)"
   ]
  },
  {
   "cell_type": "code",
   "execution_count": 38,
   "id": "9a703072",
   "metadata": {},
   "outputs": [],
   "source": [
    "cosine_score1 = util.pytorch_cos_sim(embedding5, embedding6)\n",
    "\n",
    "cosine_score2 = util.pytorch_cos_sim(embedding7, embedding8)\n",
    "\n",
    "cosine_score3 = util.pytorch_cos_sim(embedding9, embedding10)"
   ]
  },
  {
   "cell_type": "code",
   "execution_count": 42,
   "id": "2ed0df78",
   "metadata": {},
   "outputs": [
    {
     "name": "stdout",
     "output_type": "stream",
     "text": [
      "Similarity Score for Pair 1: tensor([[0.8399]])\n",
      "Similarity Score for Pair 2: tensor([[0.9185]])\n",
      "Similarity Score for Pair 3: tensor([[1.0000]])\n"
     ]
    }
   ],
   "source": [
    "print(\"Similarity Score for Pair 1:\", cosine_score1)\n",
    "print(\"Similarity Score for Pair 2:\", cosine_score2)\n",
    "print(\"Similarity Score for Pair 3:\", cosine_score3)"
   ]
  },
  {
   "cell_type": "code",
   "execution_count": null,
   "id": "18649873",
   "metadata": {},
   "outputs": [],
   "source": []
  }
 ],
 "metadata": {
  "kernelspec": {
   "display_name": "Python 3 (ipykernel)",
   "language": "python",
   "name": "python3"
  },
  "language_info": {
   "codemirror_mode": {
    "name": "ipython",
    "version": 3
   },
   "file_extension": ".py",
   "mimetype": "text/x-python",
   "name": "python",
   "nbconvert_exporter": "python",
   "pygments_lexer": "ipython3",
   "version": "3.9.13"
  }
 },
 "nbformat": 4,
 "nbformat_minor": 5
}
